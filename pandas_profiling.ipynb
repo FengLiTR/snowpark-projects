{
 "cells": [
  {
   "cell_type": "code",
   "execution_count": null,
   "metadata": {},
   "outputs": [],
   "source": [
    "from snowflake.snowpark.session import Session\n",
    "from snowflake.snowpark.functions import udf\n",
    "\n",
    "def create_session_object():\n",
    "   connection_parameters = {\n",
    "      \"account\": \"zzzz.us-east-1\",\n",
    "      \"user\": \"fengliplatform\",\n",
    "      \"password\": \"xxxxx+\",\n",
    "      \"role\": \"sysadmin\",\n",
    "      \"warehouse\": \"compute_WH\",\n",
    "      \"database\": \"fengdb\",\n",
    "      \"schema\": \"public\"\n",
    "   }\n",
    "   session = Session.builder.configs(connection_parameters).create()\n",
    "   print(session.sql('select current_warehouse(), current_database(), current_schema()').collect())\n",
    "   return session\n",
    "\n",
    "session = create_session_object()"
   ]
  },
  {
   "cell_type": "code",
   "execution_count": null,
   "metadata": {},
   "outputs": [],
   "source": [
    "import pandas as pd\n",
    "#import pandas_profiling\n",
    "import ydata_profiling\n",
    "table_name = 'iris_feature_table'\n",
    "iris_feature_sp_df = session.table(table_name)\n",
    "df = pd.DataFrame(iris_feature_sp_df.collect())\n",
    "profile = df.profile_report(title='Data Profiling Resport')\n",
    "profile"
   ]
  }
 ],
 "metadata": {
  "kernelspec": {
   "display_name": "Python 3",
   "language": "python",
   "name": "python3"
  },
  "language_info": {
   "name": "python",
   "version": "3.10.9 (tags/v3.10.9:1dd9be6, Dec  6 2022, 20:01:21) [MSC v.1934 64 bit (AMD64)]"
  },
  "orig_nbformat": 4,
  "vscode": {
   "interpreter": {
    "hash": "a780e3ead9087fb0d1b22063ce967f2953c2626f599f5e00529e6815a6402bb2"
   }
  }
 },
 "nbformat": 4,
 "nbformat_minor": 2
}
